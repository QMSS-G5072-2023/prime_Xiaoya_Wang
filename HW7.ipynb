{
 "cells": [
  {
   "cell_type": "code",
   "execution_count": 2,
   "id": "10a3b149-b7c9-434b-9ecf-208714cf8c37",
   "metadata": {},
   "outputs": [
    {
     "name": "stdout",
     "output_type": "stream",
     "text": [
      "Looking in indexes: https://test.pypi.org/simple/\n",
      "Collecting prime_xw2931\n",
      "  Obtaining dependency information for prime_xw2931 from https://test-files.pythonhosted.org/packages/69/4a/0b84d31f2e1fb51825cdf73100e7471ba404c679893119454b630338fe0b/prime_xw2931-0.1.0-py3-none-any.whl.metadata\n",
      "  Downloading https://test-files.pythonhosted.org/packages/69/4a/0b84d31f2e1fb51825cdf73100e7471ba404c679893119454b630338fe0b/prime_xw2931-0.1.0-py3-none-any.whl.metadata (1.2 kB)\n",
      "Downloading https://test-files.pythonhosted.org/packages/69/4a/0b84d31f2e1fb51825cdf73100e7471ba404c679893119454b630338fe0b/prime_xw2931-0.1.0-py3-none-any.whl (2.8 kB)\n",
      "Installing collected packages: prime_xw2931\n",
      "Successfully installed prime_xw2931-0.1.0\n"
     ]
    }
   ],
   "source": [
    "!pip install --index-url https://test.pypi.org/simple/ prime_xw2931"
   ]
  },
  {
   "cell_type": "code",
   "execution_count": 3,
   "id": "a1323e67-526b-4e84-bdc7-dc963b8cfaeb",
   "metadata": {},
   "outputs": [],
   "source": [
    "from prime_xw2931.prime_xw2931 import is_prime"
   ]
  },
  {
   "cell_type": "code",
   "execution_count": 4,
   "id": "114a22e7-c997-4358-815a-ec795a575741",
   "metadata": {},
   "outputs": [
    {
     "name": "stdout",
     "output_type": "stream",
     "text": [
      "True\n"
     ]
    }
   ],
   "source": [
    "result = is_prime(5)\n",
    "print(result)"
   ]
  },
  {
   "cell_type": "code",
   "execution_count": 5,
   "id": "ed75f1fc-ab16-431f-a422-6cf174f31195",
   "metadata": {},
   "outputs": [
    {
     "name": "stdout",
     "output_type": "stream",
     "text": [
      "Help on package prime_xw2931:\n",
      "\n",
      "NAME\n",
      "    prime_xw2931 - # read version from installed package\n",
      "\n",
      "PACKAGE CONTENTS\n",
      "    prime_xw2931\n",
      "\n",
      "VERSION\n",
      "    0.1.0\n",
      "\n",
      "FILE\n",
      "    /Users/rr/Library/Caches/pypoetry/virtualenvs/my-project-9EewjJ3W-py3.11/lib/python3.11/site-packages/prime_xw2931/__init__.py\n",
      "\n",
      "\n"
     ]
    }
   ],
   "source": [
    "import prime_xw2931\n",
    "help(prime_xw2931)"
   ]
  },
  {
   "cell_type": "code",
   "execution_count": 6,
   "id": "b00de003-8e80-4688-9a09-2f8115b2fda8",
   "metadata": {},
   "outputs": [
    {
     "name": "stdout",
     "output_type": "stream",
     "text": [
      "Help on function is_prime in module prime_xw2931.prime_xw2931:\n",
      "\n",
      "is_prime(n)\n",
      "    Determine whether a number is a prime number.\n",
      "    \n",
      "    Parameters:\n",
      "    n (int): The number to be checked for primality.\n",
      "    \n",
      "    Returns:\n",
      "    bool: True if 'n' is a prime number, False otherwise.\n",
      "    \n",
      "    Example:\n",
      "    >>> is_prime(11)\n",
      "    True\n",
      "    >>> is_prime(4)\n",
      "    False\n",
      "\n"
     ]
    }
   ],
   "source": [
    "help(is_prime)"
   ]
  },
  {
   "cell_type": "code",
   "execution_count": null,
   "id": "0d2be58b-c212-4da0-ace2-48f1bf1824ed",
   "metadata": {},
   "outputs": [],
   "source": []
  }
 ],
 "metadata": {
  "kernelspec": {
   "display_name": "Python 3 (ipykernel)",
   "language": "python",
   "name": "python3"
  },
  "language_info": {
   "codemirror_mode": {
    "name": "ipython",
    "version": 3
   },
   "file_extension": ".py",
   "mimetype": "text/x-python",
   "name": "python",
   "nbconvert_exporter": "python",
   "pygments_lexer": "ipython3",
   "version": "3.11.4"
  }
 },
 "nbformat": 4,
 "nbformat_minor": 5
}
